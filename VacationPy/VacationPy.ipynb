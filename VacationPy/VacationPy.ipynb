{
 "cells": [
  {
   "cell_type": "markdown",
   "metadata": {},
   "source": [
    "# VacationPy\n",
    "----\n",
    "\n",
    "#### Note\n",
    "* Keep an eye on your API usage. Use https://developers.google.com/maps/reporting/gmp-reporting as reference for how to monitor your usage and billing.\n",
    "\n",
    "* Instructions have been included for each segment. You do not have to follow them exactly, but they are included to help you think through the steps."
   ]
  },
  {
   "cell_type": "code",
   "execution_count": 1,
   "metadata": {},
   "outputs": [],
   "source": [
    "# Dependencies and Setup\n",
    "import matplotlib.pyplot as plt\n",
    "import pandas as pd\n",
    "import numpy as np\n",
    "import requests\n",
    "import gmaps\n",
    "import os\n",
    "\n",
    "# Import API key\n",
    "from api_keys import g_key"
   ]
  },
  {
   "cell_type": "markdown",
   "metadata": {},
   "source": [
    "### Store Part I results into DataFrame\n",
    "* Load the csv exported in Part I to a DataFrame"
   ]
  },
  {
   "cell_type": "code",
   "execution_count": 2,
   "metadata": {},
   "outputs": [
    {
     "data": {
      "text/html": [
       "<div>\n",
       "<style scoped>\n",
       "    .dataframe tbody tr th:only-of-type {\n",
       "        vertical-align: middle;\n",
       "    }\n",
       "\n",
       "    .dataframe tbody tr th {\n",
       "        vertical-align: top;\n",
       "    }\n",
       "\n",
       "    .dataframe thead th {\n",
       "        text-align: right;\n",
       "    }\n",
       "</style>\n",
       "<table border=\"1\" class=\"dataframe\">\n",
       "  <thead>\n",
       "    <tr style=\"text-align: right;\">\n",
       "      <th></th>\n",
       "      <th>City</th>\n",
       "      <th>Lat</th>\n",
       "      <th>Lng</th>\n",
       "      <th>Max Temp</th>\n",
       "      <th>Humidity</th>\n",
       "      <th>Cloudiness</th>\n",
       "      <th>Wind Speed</th>\n",
       "      <th>Country</th>\n",
       "      <th>Date</th>\n",
       "    </tr>\n",
       "  </thead>\n",
       "  <tbody>\n",
       "    <tr>\n",
       "      <th>0</th>\n",
       "      <td>port alfred</td>\n",
       "      <td>-33.5906</td>\n",
       "      <td>26.8910</td>\n",
       "      <td>57.38</td>\n",
       "      <td>75</td>\n",
       "      <td>86</td>\n",
       "      <td>6.35</td>\n",
       "      <td>ZA</td>\n",
       "      <td>1655686374</td>\n",
       "    </tr>\n",
       "    <tr>\n",
       "      <th>1</th>\n",
       "      <td>rikitea</td>\n",
       "      <td>-23.1203</td>\n",
       "      <td>-134.9692</td>\n",
       "      <td>72.07</td>\n",
       "      <td>66</td>\n",
       "      <td>91</td>\n",
       "      <td>22.82</td>\n",
       "      <td>PF</td>\n",
       "      <td>1655686375</td>\n",
       "    </tr>\n",
       "    <tr>\n",
       "      <th>2</th>\n",
       "      <td>atar</td>\n",
       "      <td>20.5169</td>\n",
       "      <td>-13.0499</td>\n",
       "      <td>80.22</td>\n",
       "      <td>63</td>\n",
       "      <td>95</td>\n",
       "      <td>5.12</td>\n",
       "      <td>MR</td>\n",
       "      <td>1655686375</td>\n",
       "    </tr>\n",
       "    <tr>\n",
       "      <th>3</th>\n",
       "      <td>iqaluit</td>\n",
       "      <td>63.7506</td>\n",
       "      <td>-68.5145</td>\n",
       "      <td>51.53</td>\n",
       "      <td>46</td>\n",
       "      <td>75</td>\n",
       "      <td>17.27</td>\n",
       "      <td>CA</td>\n",
       "      <td>1655686376</td>\n",
       "    </tr>\n",
       "    <tr>\n",
       "      <th>4</th>\n",
       "      <td>hermanus</td>\n",
       "      <td>-34.4187</td>\n",
       "      <td>19.2345</td>\n",
       "      <td>43.81</td>\n",
       "      <td>84</td>\n",
       "      <td>0</td>\n",
       "      <td>11.10</td>\n",
       "      <td>ZA</td>\n",
       "      <td>1655686377</td>\n",
       "    </tr>\n",
       "  </tbody>\n",
       "</table>\n",
       "</div>"
      ],
      "text/plain": [
       "          City      Lat       Lng  Max Temp  Humidity  Cloudiness  Wind Speed  \\\n",
       "0  port alfred -33.5906   26.8910     57.38        75          86        6.35   \n",
       "1      rikitea -23.1203 -134.9692     72.07        66          91       22.82   \n",
       "2         atar  20.5169  -13.0499     80.22        63          95        5.12   \n",
       "3      iqaluit  63.7506  -68.5145     51.53        46          75       17.27   \n",
       "4     hermanus -34.4187   19.2345     43.81        84           0       11.10   \n",
       "\n",
       "  Country        Date  \n",
       "0      ZA  1655686374  \n",
       "1      PF  1655686375  \n",
       "2      MR  1655686375  \n",
       "3      CA  1655686376  \n",
       "4      ZA  1655686377  "
      ]
     },
     "execution_count": 2,
     "metadata": {},
     "output_type": "execute_result"
    }
   ],
   "source": [
    "\n",
    "weather_df = pd.read_csv(\"/Users/rorosun/Desktop/Data Analytics Monash University/python-api-challenge/WeatherPy/WeatherPy.csv\", encoding=\"utf-8\")\n",
    "weather_df.head()"
   ]
  },
  {
   "cell_type": "markdown",
   "metadata": {},
   "source": [
    "### Humidity Heatmap\n",
    "* Configure gmaps.\n",
    "* Use the Lat and Lng as locations and Humidity as the weight.\n",
    "* Add Heatmap layer to map."
   ]
  },
  {
   "cell_type": "code",
   "execution_count": 3,
   "metadata": {},
   "outputs": [],
   "source": [
    "humidity = weather_df[\"Humidity\"].astype(float)\n",
    "maxhumidity = humidity.max()\n",
    "locations = weather_df[[\"Lat\", \"Lng\"]]"
   ]
  },
  {
   "cell_type": "code",
   "execution_count": 4,
   "metadata": {},
   "outputs": [
    {
     "data": {
      "application/vnd.jupyter.widget-view+json": {
       "model_id": "b6c5bc1be7814acf84afc5205db9674c",
       "version_major": 2,
       "version_minor": 0
      },
      "text/plain": [
       "Figure(layout=FigureLayout(height='420px'))"
      ]
     },
     "metadata": {},
     "output_type": "display_data"
    }
   ],
   "source": [
    "fig = gmaps.figure()\n",
    "heat_layer = gmaps.heatmap_layer(locations, weights=humidity,dissipating=False, max_intensity=maxhumidity,point_radius=3)\n",
    "fig.add_layer(heat_layer)\n",
    "fig"
   ]
  },
  {
   "cell_type": "markdown",
   "metadata": {},
   "source": [
    "### Create new DataFrame fitting weather criteria\n",
    "* Narrow down the cities to fit weather conditions.\n",
    "* Drop any rows will null values."
   ]
  },
  {
   "cell_type": "code",
   "execution_count": 5,
   "metadata": {},
   "outputs": [
    {
     "data": {
      "text/html": [
       "<div>\n",
       "<style scoped>\n",
       "    .dataframe tbody tr th:only-of-type {\n",
       "        vertical-align: middle;\n",
       "    }\n",
       "\n",
       "    .dataframe tbody tr th {\n",
       "        vertical-align: top;\n",
       "    }\n",
       "\n",
       "    .dataframe thead th {\n",
       "        text-align: right;\n",
       "    }\n",
       "</style>\n",
       "<table border=\"1\" class=\"dataframe\">\n",
       "  <thead>\n",
       "    <tr style=\"text-align: right;\">\n",
       "      <th></th>\n",
       "      <th>City</th>\n",
       "      <th>Lat</th>\n",
       "      <th>Lng</th>\n",
       "      <th>Max Temp</th>\n",
       "      <th>Humidity</th>\n",
       "      <th>Cloudiness</th>\n",
       "      <th>Wind Speed</th>\n",
       "      <th>Country</th>\n",
       "      <th>Date</th>\n",
       "    </tr>\n",
       "  </thead>\n",
       "  <tbody>\n",
       "    <tr>\n",
       "      <th>0</th>\n",
       "      <td>mantua</td>\n",
       "      <td>45.1667</td>\n",
       "      <td>10.7833</td>\n",
       "      <td>76.15</td>\n",
       "      <td>77</td>\n",
       "      <td>0</td>\n",
       "      <td>3.00</td>\n",
       "      <td>IT</td>\n",
       "      <td>1655686380</td>\n",
       "    </tr>\n",
       "    <tr>\n",
       "      <th>1</th>\n",
       "      <td>san lawrenz</td>\n",
       "      <td>36.0553</td>\n",
       "      <td>14.2040</td>\n",
       "      <td>71.85</td>\n",
       "      <td>86</td>\n",
       "      <td>0</td>\n",
       "      <td>6.55</td>\n",
       "      <td>MT</td>\n",
       "      <td>1655686411</td>\n",
       "    </tr>\n",
       "    <tr>\n",
       "      <th>2</th>\n",
       "      <td>asyut</td>\n",
       "      <td>27.1810</td>\n",
       "      <td>31.1837</td>\n",
       "      <td>77.18</td>\n",
       "      <td>36</td>\n",
       "      <td>0</td>\n",
       "      <td>12.33</td>\n",
       "      <td>EG</td>\n",
       "      <td>1655686418</td>\n",
       "    </tr>\n",
       "    <tr>\n",
       "      <th>3</th>\n",
       "      <td>hohhot</td>\n",
       "      <td>40.8106</td>\n",
       "      <td>111.6522</td>\n",
       "      <td>79.09</td>\n",
       "      <td>36</td>\n",
       "      <td>0</td>\n",
       "      <td>4.47</td>\n",
       "      <td>CN</td>\n",
       "      <td>1655686433</td>\n",
       "    </tr>\n",
       "    <tr>\n",
       "      <th>4</th>\n",
       "      <td>alta floresta</td>\n",
       "      <td>-9.8756</td>\n",
       "      <td>-56.0861</td>\n",
       "      <td>71.42</td>\n",
       "      <td>83</td>\n",
       "      <td>0</td>\n",
       "      <td>0.00</td>\n",
       "      <td>BR</td>\n",
       "      <td>1655686434</td>\n",
       "    </tr>\n",
       "  </tbody>\n",
       "</table>\n",
       "</div>"
      ],
      "text/plain": [
       "            City      Lat       Lng  Max Temp  Humidity  Cloudiness  \\\n",
       "0         mantua  45.1667   10.7833     76.15        77           0   \n",
       "1    san lawrenz  36.0553   14.2040     71.85        86           0   \n",
       "2          asyut  27.1810   31.1837     77.18        36           0   \n",
       "3         hohhot  40.8106  111.6522     79.09        36           0   \n",
       "4  alta floresta  -9.8756  -56.0861     71.42        83           0   \n",
       "\n",
       "   Wind Speed Country        Date  \n",
       "0        3.00      IT  1655686380  \n",
       "1        6.55      MT  1655686411  \n",
       "2       12.33      EG  1655686418  \n",
       "3        4.47      CN  1655686433  \n",
       "4        0.00      BR  1655686434  "
      ]
     },
     "execution_count": 5,
     "metadata": {},
     "output_type": "execute_result"
    }
   ],
   "source": [
    "narrowed_weather_df = weather_df.loc[(weather_df[\"Max Temp\"] > 70) & (weather_df[\"Max Temp\"] < 80) & (weather_df[\"Cloudiness\"] == 0), :]\n",
    "narrowed_weather_df = narrowed_weather_df.dropna(how='any')\n",
    "narrowed_weather_df.reset_index(inplace=True)\n",
    "del narrowed_weather_df['index']\n",
    "narrowed_weather_df.head()"
   ]
  },
  {
   "cell_type": "markdown",
   "metadata": {},
   "source": [
    "### Hotel Map\n",
    "* Store into variable named `hotel_df`.\n",
    "* Add a \"Hotel Name\" column to the DataFrame.\n",
    "* Set parameters to search for hotels with 5000 meters.\n",
    "* Hit the Google Places API for each city's coordinates.\n",
    "* Store the first Hotel result into the DataFrame.\n",
    "* Plot markers on top of the heatmap."
   ]
  },
  {
   "cell_type": "code",
   "execution_count": 6,
   "metadata": {},
   "outputs": [
    {
     "data": {
      "text/html": [
       "<div>\n",
       "<style scoped>\n",
       "    .dataframe tbody tr th:only-of-type {\n",
       "        vertical-align: middle;\n",
       "    }\n",
       "\n",
       "    .dataframe tbody tr th {\n",
       "        vertical-align: top;\n",
       "    }\n",
       "\n",
       "    .dataframe thead th {\n",
       "        text-align: right;\n",
       "    }\n",
       "</style>\n",
       "<table border=\"1\" class=\"dataframe\">\n",
       "  <thead>\n",
       "    <tr style=\"text-align: right;\">\n",
       "      <th></th>\n",
       "      <th>City</th>\n",
       "      <th>Lat</th>\n",
       "      <th>Lng</th>\n",
       "      <th>Max Temp</th>\n",
       "      <th>Humidity</th>\n",
       "      <th>Cloudiness</th>\n",
       "      <th>Wind Speed</th>\n",
       "      <th>Country</th>\n",
       "      <th>Date</th>\n",
       "      <th>Hotel Name</th>\n",
       "    </tr>\n",
       "  </thead>\n",
       "  <tbody>\n",
       "    <tr>\n",
       "      <th>0</th>\n",
       "      <td>mantua</td>\n",
       "      <td>45.1667</td>\n",
       "      <td>10.7833</td>\n",
       "      <td>76.15</td>\n",
       "      <td>77</td>\n",
       "      <td>0</td>\n",
       "      <td>3.00</td>\n",
       "      <td>IT</td>\n",
       "      <td>1655686380</td>\n",
       "      <td>Mantua</td>\n",
       "    </tr>\n",
       "    <tr>\n",
       "      <th>1</th>\n",
       "      <td>san lawrenz</td>\n",
       "      <td>36.0553</td>\n",
       "      <td>14.2040</td>\n",
       "      <td>71.85</td>\n",
       "      <td>86</td>\n",
       "      <td>0</td>\n",
       "      <td>6.55</td>\n",
       "      <td>MT</td>\n",
       "      <td>1655686411</td>\n",
       "      <td>Victoria</td>\n",
       "    </tr>\n",
       "    <tr>\n",
       "      <th>2</th>\n",
       "      <td>asyut</td>\n",
       "      <td>27.1810</td>\n",
       "      <td>31.1837</td>\n",
       "      <td>77.18</td>\n",
       "      <td>36</td>\n",
       "      <td>0</td>\n",
       "      <td>12.33</td>\n",
       "      <td>EG</td>\n",
       "      <td>1655686418</td>\n",
       "      <td>Asyut</td>\n",
       "    </tr>\n",
       "    <tr>\n",
       "      <th>3</th>\n",
       "      <td>hohhot</td>\n",
       "      <td>40.8106</td>\n",
       "      <td>111.6522</td>\n",
       "      <td>79.09</td>\n",
       "      <td>36</td>\n",
       "      <td>0</td>\n",
       "      <td>4.47</td>\n",
       "      <td>CN</td>\n",
       "      <td>1655686433</td>\n",
       "      <td>Hohhot</td>\n",
       "    </tr>\n",
       "    <tr>\n",
       "      <th>4</th>\n",
       "      <td>alta floresta</td>\n",
       "      <td>-9.8756</td>\n",
       "      <td>-56.0861</td>\n",
       "      <td>71.42</td>\n",
       "      <td>83</td>\n",
       "      <td>0</td>\n",
       "      <td>0.00</td>\n",
       "      <td>BR</td>\n",
       "      <td>1655686434</td>\n",
       "      <td>Alta Floresta</td>\n",
       "    </tr>\n",
       "  </tbody>\n",
       "</table>\n",
       "</div>"
      ],
      "text/plain": [
       "            City      Lat       Lng  Max Temp  Humidity  Cloudiness  \\\n",
       "0         mantua  45.1667   10.7833     76.15        77           0   \n",
       "1    san lawrenz  36.0553   14.2040     71.85        86           0   \n",
       "2          asyut  27.1810   31.1837     77.18        36           0   \n",
       "3         hohhot  40.8106  111.6522     79.09        36           0   \n",
       "4  alta floresta  -9.8756  -56.0861     71.42        83           0   \n",
       "\n",
       "   Wind Speed Country        Date     Hotel Name  \n",
       "0        3.00      IT  1655686380         Mantua  \n",
       "1        6.55      MT  1655686411       Victoria  \n",
       "2       12.33      EG  1655686418          Asyut  \n",
       "3        4.47      CN  1655686433         Hohhot  \n",
       "4        0.00      BR  1655686434  Alta Floresta  "
      ]
     },
     "execution_count": 6,
     "metadata": {},
     "output_type": "execute_result"
    }
   ],
   "source": [
    "hotellist = []\n",
    "\n",
    "for i in range(len(narrowed_weather_df)):\n",
    "    lat = narrowed_weather_df.loc[i]['Lat']\n",
    "    lng = narrowed_weather_df.loc[i]['Lng']\n",
    "\n",
    "    params = {\n",
    "        \"location\": f\"{lat},{lng}\",\n",
    "        \"radius\": 5000,\n",
    "        \"types\" : \"hotel\",\n",
    "        \"key\": g_key\n",
    "    }\n",
    "    \n",
    "    base_url = \"https://maps.googleapis.com/maps/api/place/nearbysearch/json\"\n",
    "    requested = requests.get(base_url, params=params)\n",
    "    jsn = requested.json()\n",
    "    try:\n",
    "        hotellist.append(jsn['results'][0]['name'])\n",
    "    except:\n",
    "        hotellist.append(\"\")\n",
    "narrowed_weather_df[\"Hotel Name\"] = hotellist\n",
    "narrowed_weather_df = narrowed_weather_df.dropna(how='any')\n",
    "narrowed_weather_df.head()"
   ]
  },
  {
   "cell_type": "code",
   "execution_count": null,
   "metadata": {},
   "outputs": [],
   "source": []
  },
  {
   "cell_type": "code",
   "execution_count": 7,
   "metadata": {},
   "outputs": [],
   "source": [
    "# NOTE: Do not change any of the code in this cell\n",
    "\n",
    "# Using the template add the hotel marks to the heatmap\n",
    "info_box_template = \"\"\"\n",
    "<dl>\n",
    "<dt>Name</dt><dd>{Hotel Name}</dd>\n",
    "<dt>City</dt><dd>{City}</dd>\n",
    "<dt>Country</dt><dd>{Country}</dd>\n",
    "</dl>\n",
    "\"\"\"\n",
    "# Store the DataFrame Row\n",
    "# NOTE: be sure to update with your DataFrame name\n",
    "hotel_info = [info_box_template.format(**row) for index, row in narrowed_weather_df.iterrows()]\n",
    "locations = narrowed_weather_df[[\"Lat\", \"Lng\"]]"
   ]
  },
  {
   "cell_type": "code",
   "execution_count": 8,
   "metadata": {},
   "outputs": [
    {
     "data": {
      "application/vnd.jupyter.widget-view+json": {
       "model_id": "b6c5bc1be7814acf84afc5205db9674c",
       "version_major": 2,
       "version_minor": 0
      },
      "text/plain": [
       "Figure(layout=FigureLayout(height='420px'))"
      ]
     },
     "metadata": {},
     "output_type": "display_data"
    }
   ],
   "source": [
    "# Add marker layer ontop of heat map\n",
    "# Display figure\n",
    "markers = gmaps.marker_layer(locations)\n",
    "fig.add_layer(markers)\n",
    "fig\n"
   ]
  },
  {
   "cell_type": "code",
   "execution_count": null,
   "metadata": {},
   "outputs": [],
   "source": []
  }
 ],
 "metadata": {
  "kernelspec": {
   "display_name": "Python 3.7.13 ('bootcamp')",
   "language": "python",
   "name": "python3"
  },
  "language_info": {
   "codemirror_mode": {
    "name": "ipython",
    "version": 3
   },
   "file_extension": ".py",
   "mimetype": "text/x-python",
   "name": "python",
   "nbconvert_exporter": "python",
   "pygments_lexer": "ipython3",
   "version": "3.7.13"
  },
  "latex_envs": {
   "LaTeX_envs_menu_present": true,
   "autoclose": false,
   "autocomplete": true,
   "bibliofile": "biblio.bib",
   "cite_by": "apalike",
   "current_citInitial": 1,
   "eqLabelWithNumbers": true,
   "eqNumInitial": 1,
   "hotkeys": {
    "equation": "Ctrl-E",
    "itemize": "Ctrl-I"
   },
   "labels_anchors": false,
   "latex_user_defs": false,
   "report_style_numbering": false,
   "user_envs_cfg": false
  },
  "vscode": {
   "interpreter": {
    "hash": "ffa82a92fa4a4e174024fa8873afd2e3232532b7566973ff52d9a30a9f4f6ad0"
   }
  }
 },
 "nbformat": 4,
 "nbformat_minor": 4
}
